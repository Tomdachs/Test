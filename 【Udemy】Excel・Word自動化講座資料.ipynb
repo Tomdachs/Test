{
  "nbformat": 4,
  "nbformat_minor": 0,
  "metadata": {
    "colab": {
      "name": "【Udemy】Excel・Word自動化講座資料.ipynb",
      "provenance": [],
      "include_colab_link": true
    },
    "kernelspec": {
      "name": "python3",
      "display_name": "Python 3"
    }
  },
  "cells": [
    {
      "cell_type": "markdown",
      "metadata": {
        "id": "view-in-github",
        "colab_type": "text"
      },
      "source": [
        "<a href=\"https://colab.research.google.com/github/Tomdachs/Test/blob/master/%E3%80%90Udemy%E3%80%91Excel%E3%83%BBWord%E8%87%AA%E5%8B%95%E5%8C%96%E8%AC%9B%E5%BA%A7%E8%B3%87%E6%96%99.ipynb\" target=\"_parent\"><img src=\"https://colab.research.google.com/assets/colab-badge.svg\" alt=\"Open In Colab\"/></a>"
      ]
    },
    {
      "cell_type": "markdown",
      "metadata": {
        "id": "mFvEEjAfm2F5",
        "colab_type": "text"
      },
      "source": [
        "# ■ファイルを指定する方法"
      ]
    },
    {
      "cell_type": "markdown",
      "metadata": {
        "id": "hYtpePahtxOw",
        "colab_type": "text"
      },
      "source": [
        "### ファイルの構成要素\n",
        "\n",
        "ファイルの構成要素として、**ファイル名**と**パス**がある\n",
        "\n",
        "**ファイル名とは？**\n",
        "\n",
        "「hello.py」がファイル名に当たる\n",
        "\n",
        "ファイル名のピリオド以降を**拡張子**と呼び、ファイルの種類を表す\n",
        "\n",
        "先程の場合は「.py」が拡張子であることから、Pythonのファイルであることがわかる\n",
        "\n",
        "**パスとは？**\n",
        "\n",
        "**ファイルのあるコンピュータ上の場所**のこと\n",
        "\n",
        "Spyderでは左のエディタの上部に記載されている\n",
        "\n",
        "Windowsの場合「C:\\Users\\ユーザー名\\pyauto\\hello.py」\n"
      ]
    },
    {
      "cell_type": "markdown",
      "metadata": {
        "id": "vgtn18D5uLOJ",
        "colab_type": "text"
      },
      "source": [
        "### 絶対パスと相対パス\n",
        "\n",
        "パスには、相対パスと絶対パスがある\n",
        "\n",
        "**相対パス**　⇒　カレントディレクトリから相対的に指定するパス\n",
        "\n",
        "**絶対パス**　⇒　それだけで場所が一意に定まる、ルートディレクトリから始まるパス\n",
        "\n"
      ]
    },
    {
      "cell_type": "markdown",
      "metadata": {
        "id": "dd2oJxeiHjXD",
        "colab_type": "text"
      },
      "source": [
        "**カレントディレクトリとは？**\n",
        "\n",
        "現在作業中のディレクトリ（フォルダ）のこと\n",
        "\n",
        "Spyderの右上に表示されている"
      ]
    },
    {
      "cell_type": "markdown",
      "metadata": {
        "id": "0zn71M9SqbjO",
        "colab_type": "text"
      },
      "source": [
        "**ルートディレクトリとは？**\n",
        "\n",
        "他のすべてのディレクトリを格納するディレクトリのこと\n",
        "\n",
        "Windowsでは「C:\\」、Macでは「/」がルートディレクトリに当たる\n",
        "\n",
        "「\\ （バックスラッシュ）」は「￥」として表示されることもあるが、同じ意味"
      ]
    },
    {
      "cell_type": "markdown",
      "metadata": {
        "id": "Nfx2Nat5h6vy",
        "colab_type": "text"
      },
      "source": [
        "例：カレントディレクトリがC:\\Users\\Username\\pyautoであるときの、pyautoディレクトリ内のhello.pyの指定方法"
      ]
    },
    {
      "cell_type": "code",
      "metadata": {
        "id": "DbsYAWVXh9dF",
        "colab_type": "code",
        "colab": {}
      },
      "source": [
        "Windowsの場合\n",
        "相対パス　⇒　\".\\hello.py\"\n",
        "絶対パス　⇒　\"C:\\Users\\Username\\pyauto\\hello.py\"\n",
        "\n",
        "Macの場合\n",
        "相対パス　⇒　\"./hello.py\"\n",
        "絶対パス　⇒　\"/Users/Username/pyauto/hello.py\""
      ],
      "execution_count": 0,
      "outputs": []
    },
    {
      "cell_type": "markdown",
      "metadata": {
        "id": "sTVtLJBIiCVQ",
        "colab_type": "text"
      },
      "source": [
        "相対パスにおいて、\n",
        "\n",
        "カレントディレクトリ は 「.（ピリオド）」で表現される\n",
        "\n",
        "なので上記でWindowsの場合、\n",
        "\n",
        "相対パスのピリオドはカレントディレクトリの「C:\\Users\\Username\\pyauto」を意味することになる\n",
        "\n",
        "先頭の「.\\」は省略可能、なので「.\\hello.py」でなく「hello.py」と書いても同じ意味になる\n",
        "\n",
        "一つ上のディレクトリ（親ディレクトリ）は「 ..（ピリオド2つ）」で表現される"
      ]
    },
    {
      "cell_type": "markdown",
      "metadata": {
        "id": "4YqmNXTgptm6",
        "colab_type": "text"
      },
      "source": [
        "# ■Excel"
      ]
    },
    {
      "cell_type": "markdown",
      "metadata": {
        "id": "ULJpunL6nMC2",
        "colab_type": "text"
      },
      "source": [
        "**用語の確認**\n",
        "\n",
        "1.   Excelなど.xlsxという拡張子の文書を**ワークブック**という\n",
        "2.   ひとつのワークブックには複数の**シート**を含めることが出来る\n",
        "3.   現在表示中、もしくはExcelを閉じる直前に表示していたシートのことを**アクティブシート**と呼ぶ\n",
        "4.   シートにはAから始まる文字で指定される**列（column）**と、1から始まる番号で指定される**行（row）**がある\n",
        "5.   特定の行と列で指定される枠のことを**セル**という"
      ]
    },
    {
      "cell_type": "markdown",
      "metadata": {
        "id": "Ck1qjifHxLLG",
        "colab_type": "text"
      },
      "source": [
        "## ケーススタディ\n",
        "\n",
        "\n",
        "\n",
        "\n"
      ]
    },
    {
      "cell_type": "markdown",
      "metadata": {
        "id": "aAyCls6xod0W",
        "colab_type": "text"
      },
      "source": [
        "### 概要\n",
        "\n",
        "1枚目のシートの1行1列目のセルに「Excel」、2枚目のシートの2行2列目のセルに「Word」と\n",
        "\n",
        "書いてあるワークブックを作成する\n"
      ]
    },
    {
      "cell_type": "markdown",
      "metadata": {
        "id": "v3VUv5lxopUP",
        "colab_type": "text"
      },
      "source": [
        "### まずは手動でやってみよう\n",
        "\n",
        "1.   ワークブックを開く\n",
        "2.   シートを追加する\n",
        "3.   1枚目のシートの1行1列目のセルを選択する\n",
        "4.   「Excel」と入力する\n",
        "5.   2枚目のシートの2行2列目のセルを選択する\n",
        "6.   「Word」と入力する\n",
        "7.   ワークブックを保存する\n"
      ]
    },
    {
      "cell_type": "markdown",
      "metadata": {
        "id": "UPVJgG0ppIY-",
        "colab_type": "text"
      },
      "source": [
        "### openpyxlで自動化しよう\n"
      ]
    },
    {
      "cell_type": "markdown",
      "metadata": {
        "id": "hXJGxrjd8EoU",
        "colab_type": "text"
      },
      "source": [
        "**openpyxlとは？**\n",
        "\n",
        "Python上でExcelを扱うのに便利な機能が集められたモジュール"
      ]
    },
    {
      "cell_type": "markdown",
      "metadata": {
        "id": "QhIbB_HRpqCv",
        "colab_type": "text"
      },
      "source": [
        "**モジュールとは？**\n",
        "\n",
        "ひとまとまりの機能のこと、他のプログラムから呼び出すことで再利用できる\n",
        "\n",
        "モジュールを呼び出して使えるようにするには、ファイルの最初に以下のように記述する\n",
        "\n",
        "```\n",
        "import モジュール名\n",
        "```\n"
      ]
    },
    {
      "cell_type": "markdown",
      "metadata": {
        "id": "XdE9njS0-ytW",
        "colab_type": "text"
      },
      "source": [
        "openpyxlを使用するにはインストールが必要\n",
        "\n",
        "インストールした上で、以下のように記述すると使えるようになる"
      ]
    },
    {
      "cell_type": "code",
      "metadata": {
        "id": "PGv2kd-hpt86",
        "colab_type": "code",
        "colab": {}
      },
      "source": [
        "import openpyxl"
      ],
      "execution_count": 0,
      "outputs": []
    },
    {
      "cell_type": "markdown",
      "metadata": {
        "id": "82vKzgpDqOOa",
        "colab_type": "text"
      },
      "source": [
        "**①ワークブックを開く**"
      ]
    },
    {
      "cell_type": "code",
      "metadata": {
        "id": "mzGkSG2jp9Gz",
        "colab_type": "code",
        "colab": {}
      },
      "source": [
        "wb = openpyxl.Workbook()"
      ],
      "execution_count": 0,
      "outputs": []
    },
    {
      "cell_type": "markdown",
      "metadata": {
        "id": "NB3-FYBQ9fK1",
        "colab_type": "text"
      },
      "source": [
        "\n",
        "詳細に言うと　⇒　右辺で**Workbookオブジェクト**を生成して、wbという変数に代入している\n",
        "\n",
        "要するに　⇒　ワークブックを開いている"
      ]
    },
    {
      "cell_type": "markdown",
      "metadata": {
        "id": "ABuvAXWV-z2q",
        "colab_type": "text"
      },
      "source": [
        "**オブジェクトとは？**\n",
        "\n",
        "**属性（変数）**と**メソッド（処理）**を持つもの\n",
        "\n",
        "例：われわれ人間もオブジェクトであるといえる\n",
        "\n",
        "名前・年齢・出身地などという属性（変数）をもっているし、話す・歩く・見るなどという処理（メソッド）も持つ"
      ]
    },
    {
      "cell_type": "markdown",
      "metadata": {
        "id": "rReg0BevptwC",
        "colab_type": "text"
      },
      "source": [
        "ワークブックは複数のシートのうちどれか一つがアクティブシート（変数）であるし、\n",
        "\n",
        "新しいシートを作る機能（処理）もある\n",
        "\n",
        "なのでWorkbookオブジェクトは、\n",
        "\n",
        "属性として、アクティブシートがどれであるかの情報である　**active属性**\n",
        "\n",
        "メソッドとして、新しくシートを生成する　**create_sheet()メソッド**\n",
        "\n",
        "などを持つ"
      ]
    },
    {
      "cell_type": "markdown",
      "metadata": {
        "id": "pNCZftc3B6SH",
        "colab_type": "text"
      },
      "source": [
        "オブジェクトの属性とメソッドを利用するには、それぞれ以下のように書く\n",
        "\n",
        "\n",
        "```\n",
        "オブジェクト.属性\n",
        "オブジェクト.メソッド名()\n",
        "```\n"
      ]
    },
    {
      "cell_type": "markdown",
      "metadata": {
        "id": "kk1gohbQDWE_",
        "colab_type": "text"
      },
      "source": [
        "**②シートを追加する**"
      ]
    },
    {
      "cell_type": "code",
      "metadata": {
        "id": "7PAfKFgSpupM",
        "colab_type": "code",
        "colab": {}
      },
      "source": [
        "wb.create_sheet()    #新しいワークシートを生成"
      ],
      "execution_count": 0,
      "outputs": []
    },
    {
      "cell_type": "markdown",
      "metadata": {
        "id": "Q_b1bScKEJLd",
        "colab_type": "text"
      },
      "source": [
        "変数wbにはWorkbookオブジェクトが代入されているので、\n",
        "\n",
        "create_sheet()メソッドを呼び出して新しいシートを追加している"
      ]
    },
    {
      "cell_type": "markdown",
      "metadata": {
        "id": "IeRk_nOJF1lG",
        "colab_type": "text"
      },
      "source": [
        "get_sheet_names()メソッドで現在のシート名をリスト形式で取得できる"
      ]
    },
    {
      "cell_type": "code",
      "metadata": {
        "id": "_NqwpVefGMpb",
        "colab_type": "code",
        "colab": {}
      },
      "source": [
        "print(wb.get_sheet_names())"
      ],
      "execution_count": 0,
      "outputs": []
    },
    {
      "cell_type": "markdown",
      "metadata": {
        "id": "mLThFTf5GO6U",
        "colab_type": "text"
      },
      "source": [
        "とすると、['Sheet', 'Sheet1']と表示され、シートが追加されているのが確認できる\n",
        "\n",
        "手動で操作した時と**番号が1ずれている**ことに注意"
      ]
    },
    {
      "cell_type": "markdown",
      "metadata": {
        "id": "bvABcopfEQJb",
        "colab_type": "text"
      },
      "source": [
        "**③1枚目のシートの1行1列目を選択する**"
      ]
    },
    {
      "cell_type": "markdown",
      "metadata": {
        "id": "gf18c-U0EX29",
        "colab_type": "text"
      },
      "source": [
        "まず1枚目のシートを選択するには以下のいずれかの記述をします"
      ]
    },
    {
      "cell_type": "code",
      "metadata": {
        "id": "QTFjh0XCDb6f",
        "colab_type": "code",
        "colab": {}
      },
      "source": [
        "sheet = wb.active    #Sheetがアクティブシートの場合のみ\n",
        "sheet = wb['Sheet']  #辞書のキーを指定するようにシートを指定することもできる"
      ],
      "execution_count": 0,
      "outputs": []
    },
    {
      "cell_type": "markdown",
      "metadata": {
        "id": "7AtIdUmbEspD",
        "colab_type": "text"
      },
      "source": [
        "このように書くと、**Worksheetオブジェクト**がsheetという変数に代入されます\n",
        "\n",
        "要するに　⇒　シートを開いている状態"
      ]
    },
    {
      "cell_type": "markdown",
      "metadata": {
        "id": "IwOCh2qrHP4S",
        "colab_type": "text"
      },
      "source": [
        "これでシートを指定できたので、シートの中のA1セルを指定していきます\n",
        "\n",
        "指定方法は以下の2つ"
      ]
    },
    {
      "cell_type": "code",
      "metadata": {
        "id": "Oyf9Gf-XHw55",
        "colab_type": "code",
        "colab": {}
      },
      "source": [
        "c = sheet['A1']                  #辞書的にA1のセルを指定\n",
        "c = sheet.cell(raw=1, column=1)  #cell()メソッドで1行1列目のセルを指定"
      ],
      "execution_count": 0,
      "outputs": []
    },
    {
      "cell_type": "markdown",
      "metadata": {
        "id": "Bz6ZmfcyIJEF",
        "colab_type": "text"
      },
      "source": [
        "このようにすると、指定したセルの**Cellオブジェクト**がcという変数に代入されます\n",
        "\n",
        "要するに　⇒　セルを選択している状態"
      ]
    },
    {
      "cell_type": "markdown",
      "metadata": {
        "id": "L_pfV5TXLhKh",
        "colab_type": "text"
      },
      "source": [
        "**④「Excel」と入力する**"
      ]
    },
    {
      "cell_type": "markdown",
      "metadata": {
        "id": "chesKofhJrlh",
        "colab_type": "text"
      },
      "source": [
        "セルの値を編集するにはCellオブジェクトの**value属性**を編集します\n",
        "\n",
        "要するに　⇒　セルを選択した状態で上のバーに入力していく"
      ]
    },
    {
      "cell_type": "code",
      "metadata": {
        "id": "4fElGRV6Kaen",
        "colab_type": "code",
        "colab": {}
      },
      "source": [
        "c.value = \"Excel\""
      ],
      "execution_count": 0,
      "outputs": []
    },
    {
      "cell_type": "markdown",
      "metadata": {
        "id": "WMuIM505L7vQ",
        "colab_type": "text"
      },
      "source": [
        "**⑤2枚目のシートの2行2列目のセルを選択する**\n",
        "\n",
        "**⑥「Word」と入力する**"
      ]
    },
    {
      "cell_type": "markdown",
      "metadata": {
        "id": "mhhBKdKDMd_Q",
        "colab_type": "text"
      },
      "source": [
        "これまでと同様に以下のように書けばよい"
      ]
    },
    {
      "cell_type": "code",
      "metadata": {
        "id": "OFaCcZb9Mj84",
        "colab_type": "code",
        "colab": {}
      },
      "source": [
        "sheet1 = wb['Sheet1']\n",
        "c1 = sheet1['B2']\n",
        "c1.value = \"Word\""
      ],
      "execution_count": 0,
      "outputs": []
    },
    {
      "cell_type": "markdown",
      "metadata": {
        "id": "sextMu2EMAT6",
        "colab_type": "text"
      },
      "source": [
        "**⑦ワークブックを保存する**"
      ]
    },
    {
      "cell_type": "markdown",
      "metadata": {
        "id": "GGd6zo5TNMTA",
        "colab_type": "text"
      },
      "source": [
        "ワークブックを保存するには、Workbookオブジェクトの**save()メソッド**を使う"
      ]
    },
    {
      "cell_type": "code",
      "metadata": {
        "id": "_YTaChypNfgH",
        "colab_type": "code",
        "colab": {}
      },
      "source": [
        "wb.save(\"Case1.xlsx\")  #かっこの中には保存するときの名前を入力"
      ],
      "execution_count": 0,
      "outputs": []
    },
    {
      "cell_type": "markdown",
      "metadata": {
        "id": "vqErqBxoNvqt",
        "colab_type": "text"
      },
      "source": [
        "これまでをまとめると、全体として以下のようなコードになる"
      ]
    },
    {
      "cell_type": "code",
      "metadata": {
        "id": "tl_ovrmSN6sI",
        "colab_type": "code",
        "colab": {}
      },
      "source": [
        "import openpyxl\n",
        "\n",
        "wb = openpyxl.Workbook()\n",
        "\n",
        "wb.create_sheet()\n",
        "\n",
        "sheet = wb['Sheet']\n",
        "c = sheet['A1']\n",
        "c.value = \"Excel\"\n",
        "\n",
        "sheet1 = wb['Sheet1']\n",
        "c1 = sheet1['B2']\n",
        "c1.value = \"Word\"\n",
        "\n",
        "wb.save(\"Case1.xlsx\")"
      ],
      "execution_count": 0,
      "outputs": []
    },
    {
      "cell_type": "markdown",
      "metadata": {
        "id": "Bl1eMAWXO4Fm",
        "colab_type": "text"
      },
      "source": [
        "このコードを実行すると、先ほど手動で作成したファイルと同じものを、\n",
        "\n",
        "自動で生成することが出来る"
      ]
    },
    {
      "cell_type": "markdown",
      "metadata": {
        "id": "CcPmXE-Pp461",
        "colab_type": "text"
      },
      "source": [
        "### 公式ドキュメントを使ってみよう\n",
        "\n"
      ]
    },
    {
      "cell_type": "markdown",
      "metadata": {
        "id": "Xgyig8YQo7iv",
        "colab_type": "text"
      },
      "source": [
        "[openpyxl公式ドキュメント](https://openpyxl.readthedocs.io/en/stable/index.html)"
      ]
    },
    {
      "cell_type": "markdown",
      "metadata": {
        "id": "4T8U9PR8ifQL",
        "colab_type": "text"
      },
      "source": [
        "基本的にopenpyxlなどモジュールの使い方は覚えるものではなく、\n",
        "\n",
        "公式ドキュメントをその都度参照しながら、コードを書いていく\n",
        "\n",
        "一通り何ができるかは知ってる必要があるので、一度公式ドキュメントには目を通すのが望ましい"
      ]
    },
    {
      "cell_type": "code",
      "metadata": {
        "id": "IUenjfzvaAtY",
        "colab_type": "code",
        "colab": {}
      },
      "source": [
        "from openpyxl import Workbook\n",
        "wb = Workbook()\n",
        "\n",
        "ws = wb.active\n",
        "ws1 = wb.create_sheet(\"Mysheet\")\n",
        "\n",
        "ws.cell(row=1, column=1, value=\"Excel\")\n",
        "ws1.cell(row=2, column=2, value=\"Word\")\n",
        "\n",
        "wb.save('Case1.xlsx')"
      ],
      "execution_count": 0,
      "outputs": []
    },
    {
      "cell_type": "markdown",
      "metadata": {
        "id": "2-1jS6EDpv8f",
        "colab_type": "text"
      },
      "source": [
        "## 自分でやってみよう①"
      ]
    },
    {
      "cell_type": "markdown",
      "metadata": {
        "id": "PvpfEXCxZRwz",
        "colab_type": "text"
      },
      "source": [
        "配布した「sum.xlsx」というファイルにおいて、openpyxlを用いることによって\n",
        "\n",
        "B列の1から10行目までの合計が、B11に表示されるように変更を加えてみよう！"
      ]
    },
    {
      "cell_type": "markdown",
      "metadata": {
        "id": "B1PgX1OCsMRl",
        "colab_type": "text"
      },
      "source": [
        "## 自分でやってみよう②"
      ]
    },
    {
      "cell_type": "markdown",
      "metadata": {
        "id": "DeDeeSAFU3-Y",
        "colab_type": "text"
      },
      "source": [
        "実行すると.xlsx形式の九九表が生成されるプログラムを開発してみよう！\n",
        "\n",
        "ただし、フォントサイズは18ポイントで、\n",
        "\n",
        "かける数とかけられる数は太字（bold）で表すものとする\n",
        "\n",
        "※9×9だけでなく任意の整数 n×n に対応したプログラムだとなおよいです！\n"
      ]
    },
    {
      "cell_type": "markdown",
      "metadata": {
        "id": "KqiVIKISnH7H",
        "colab_type": "text"
      },
      "source": [
        "# ■Word自動化"
      ]
    },
    {
      "cell_type": "markdown",
      "metadata": {
        "id": "UQZ8MEy4ywWt",
        "colab_type": "text"
      },
      "source": [
        "Word形式のファイルをPythonで扱うには、**python-docxモジュール**を使うのが便利"
      ]
    },
    {
      "cell_type": "markdown",
      "metadata": {
        "id": "t8mks3iNaxkG",
        "colab_type": "text"
      },
      "source": [
        "[python-docx公式ドキュメント](https://python-docx.readthedocs.io/en/latest/index.html)"
      ]
    },
    {
      "cell_type": "markdown",
      "metadata": {
        "id": "psjN8LEDsS1j",
        "colab_type": "text"
      },
      "source": [
        "## 自分でやってみよう①"
      ]
    },
    {
      "cell_type": "markdown",
      "metadata": {
        "id": "GI3swhBUbLPN",
        "colab_type": "text"
      },
      "source": [
        "Word形式（.docx）のファイルを生成して、「Hello World!」と入力して保存する"
      ]
    },
    {
      "cell_type": "markdown",
      "metadata": {
        "id": "3SS4i4ZXsWO0",
        "colab_type": "text"
      },
      "source": [
        "## 自分でやってみよう②"
      ]
    },
    {
      "cell_type": "markdown",
      "metadata": {
        "id": "BBNSQCzzb2m8",
        "colab_type": "text"
      },
      "source": [
        "招待客の名前が書かれたテキストファイル（guest.txt）があり、1行あたりにひとりの名前が書かれている\n",
        "\n",
        "「○○様　お世話になっております。」というような、宛名を書く箇所があり、\n",
        "\n",
        "宛名の部分だけをそれぞれの招待客の名前にしたものを人数分作成する\n"
      ]
    },
    {
      "cell_type": "markdown",
      "metadata": {
        "id": "8cJagcvmckMF",
        "colab_type": "text"
      },
      "source": [
        "文章は**中央揃え**で以下のように書かれていて、一人一人ページが分かれているとする\n",
        "\n",
        "\n",
        "---\n",
        "\n",
        "\n",
        "\n",
        "〇〇様\n",
        "\n",
        "お世話になっております。\n",
        "\n",
        "パーティーへご招待いたします。\n",
        "\n",
        "2019年4月1日\n",
        "\n",
        "午後7時から\n",
        "\n",
        "新宿駅徒歩3分\n",
        "\n",
        "\n",
        "---\n",
        "\n"
      ]
    },
    {
      "cell_type": "markdown",
      "metadata": {
        "id": "gdOttpt-uwkr",
        "colab_type": "text"
      },
      "source": [
        "### open()関数\n",
        "テキストファイル（.txt）を開くには、**open()関数**を用いる\n",
        "\n",
        "open()関数の一般化した書き方は以下である"
      ]
    },
    {
      "cell_type": "code",
      "metadata": {
        "id": "DfOLPO_reILF",
        "colab_type": "code",
        "colab": {}
      },
      "source": [
        "変数 = open(開くファイル名のパス, モード)   #ファイルを開く\n",
        "変数.close()                                #ファイルを閉じる"
      ],
      "execution_count": 0,
      "outputs": []
    },
    {
      "cell_type": "markdown",
      "metadata": {
        "id": "qfWOFOATedeS",
        "colab_type": "text"
      },
      "source": [
        "第二引数でファイルを開くときのモードを選択することが出来る\n",
        "モードには、以下のような種類がある\n",
        "\n",
        "```\n",
        "\"r\"（読み込み），\"w\"（書き込み），\"a\"（追記），\"r+\"（読み書き）\n",
        "```"
      ]
    },
    {
      "cell_type": "markdown",
      "metadata": {
        "id": "s4n5YW6pf8el",
        "colab_type": "text"
      },
      "source": [
        "open()関数でファイルを開いた際には、close()メソッドでファイルを閉じるのを忘れずに！"
      ]
    },
    {
      "cell_type": "markdown",
      "metadata": {
        "id": "CCSrMldZ32gv",
        "colab_type": "text"
      },
      "source": [
        "例：カレントディレクトリ内のa.txtを読み込みモードで開いて表示する"
      ]
    },
    {
      "cell_type": "code",
      "metadata": {
        "id": "e0c4fj9Tf6mq",
        "colab_type": "code",
        "colab": {}
      },
      "source": [
        "f = open(\"a.txt\", \"r\") #a.txtは「パス」であることに注意\n",
        "print(f.read())\n",
        "f.close()"
      ],
      "execution_count": 0,
      "outputs": []
    },
    {
      "cell_type": "markdown",
      "metadata": {
        "id": "w2VrhcGF4ugw",
        "colab_type": "text"
      },
      "source": [
        "各行をリスト形式で取り出すことも可能"
      ]
    },
    {
      "cell_type": "code",
      "metadata": {
        "id": "fNvCbUJL400E",
        "colab_type": "code",
        "colab": {}
      },
      "source": [
        "f = open(\"a.txt\", \"r\")\n",
        "print(f.readlines())\n",
        "f.close()"
      ],
      "execution_count": 0,
      "outputs": []
    },
    {
      "cell_type": "markdown",
      "metadata": {
        "id": "yyUArR1Q4_z7",
        "colab_type": "text"
      },
      "source": [
        "['a\\n', 'aa\\n', 'aaa\\n', 'aaaa\\n', 'aaaaa']というように、「\\n」という文字が追加されているが、\n",
        "\n",
        "これは**「改行」を意味している**"
      ]
    },
    {
      "cell_type": "markdown",
      "metadata": {
        "id": "yBCUzm_i4HYS",
        "colab_type": "text"
      },
      "source": [
        "ループ処理によって1行ずつ取り出すことも可能"
      ]
    },
    {
      "cell_type": "code",
      "metadata": {
        "id": "KUMgliw14a_V",
        "colab_type": "code",
        "colab": {}
      },
      "source": [
        "f = open(\"a.txt\", \"r\")\n",
        "for fu in f:\n",
        "    print(fu)\n",
        "f.close()"
      ],
      "execution_count": 0,
      "outputs": []
    },
    {
      "cell_type": "markdown",
      "metadata": {
        "id": "j2PeVjFQ4PcD",
        "colab_type": "text"
      },
      "source": [
        "print()関数に含まれる改行とテキスト自体に含まれる改行（\\n）が合わさって、\n",
        "\n",
        "1行空行を挟んで表示されている"
      ]
    },
    {
      "cell_type": "markdown",
      "metadata": {
        "id": "3SWkD6g5rV7X",
        "colab_type": "text"
      },
      "source": [
        "# ■演習問題\n",
        "\n",
        "①複数のテキストファイル(a~d.txtとguest.txt)を読み込んで、スプレッドシート(.xlsx)に挿入してみよう！\n",
        "\n",
        "ただし、テキストファイルの1行につき、スプレッドシートの1行を使う\n",
        "\n",
        "最初のテキストファイルは列A、2番目のテキストファイルは列Bというように書き込んでゆく\n",
        "\n",
        "\n",
        "---\n",
        "\n",
        "\n",
        "\n",
        "②自分の業務などで自動化したいタスクをひとつ決めて、\n",
        "\n",
        "ドキュメントなどを参照しながら自動化に挑戦してみよう！"
      ]
    },
    {
      "cell_type": "markdown",
      "metadata": {
        "id": "PbB4UN5KwGyw",
        "colab_type": "text"
      },
      "source": [
        "### osモジュール\n",
        "\n",
        "OSに依存した機能を扱えるようにするモジュール"
      ]
    },
    {
      "cell_type": "markdown",
      "metadata": {
        "id": "zrtEr2cMuxGM",
        "colab_type": "text"
      },
      "source": [
        "osモジュールの代表的な機能として**os.listdir()関数**を紹介する"
      ]
    },
    {
      "cell_type": "markdown",
      "metadata": {
        "id": "B9Bntf0TxJqY",
        "colab_type": "text"
      },
      "source": [
        "**os.listdir()関数とは**\n",
        "\n",
        "かっこ（）の中に指定したディレクトリに含まれるファイル名とディレクトリ名をリスト形式で返す関数"
      ]
    },
    {
      "cell_type": "markdown",
      "metadata": {
        "id": "b80ghCptx6sI",
        "colab_type": "text"
      },
      "source": [
        "例：カレントディレクトリ内のファイルとディレクトリ名をリスト形式で得たい場合"
      ]
    },
    {
      "cell_type": "code",
      "metadata": {
        "id": "0sRy7idVx1Oy",
        "colab_type": "code",
        "colab": {}
      },
      "source": [
        "import os\n",
        "\n",
        "print(os.listdir('.'))"
      ],
      "execution_count": 0,
      "outputs": []
    },
    {
      "cell_type": "markdown",
      "metadata": {
        "id": "yp4xOACkyq5v",
        "colab_type": "text"
      },
      "source": [
        "各要素の値はファイル名でもディレクトリ名でも、文字型のデータであることに注意"
      ]
    },
    {
      "cell_type": "markdown",
      "metadata": {
        "id": "-pKTzFlXq8dX",
        "colab_type": "text"
      },
      "source": [
        "# ■解答（演習に取り組んだあとに見てください）"
      ]
    },
    {
      "cell_type": "markdown",
      "metadata": {
        "id": "hqtEKcYIq_Gq",
        "colab_type": "text"
      },
      "source": [
        "## 自分でやってみよう"
      ]
    },
    {
      "cell_type": "markdown",
      "metadata": {
        "id": "9ofZmzKdrEqJ",
        "colab_type": "text"
      },
      "source": [
        "### Excel"
      ]
    },
    {
      "cell_type": "markdown",
      "metadata": {
        "id": "YR3raA0KaCLw",
        "colab_type": "text"
      },
      "source": [
        "①配布した「sum.xlsx」というファイルにおいて、openpyxlを用いることによって\n",
        "\n",
        "B列の1から10行目までの合計が、B11に表示されるように変更を加えてみよう！"
      ]
    },
    {
      "cell_type": "markdown",
      "metadata": {
        "id": "gUZJR3NdWPHH",
        "colab_type": "text"
      },
      "source": [
        "まずは**手動で行ってみて流れを確認**する\n",
        "\n",
        "\n",
        "1.   「sum.xlsx」を開く\n",
        "2.   B11のセルを選択する\n",
        "3.   セルの中に「=SUM(B1:B10)」と入力する\n",
        "4.   上書き保存する\n"
      ]
    },
    {
      "cell_type": "markdown",
      "metadata": {
        "id": "bShJiQ_mYVUC",
        "colab_type": "text"
      },
      "source": [
        "それぞれのプロセスをコードで実現するために必要な情報を、ドキュメントから集める"
      ]
    },
    {
      "cell_type": "code",
      "metadata": {
        "id": "xVm2im-2rKgn",
        "colab_type": "code",
        "colab": {}
      },
      "source": [
        "import openpyxl\n",
        "\n",
        "wb = openpyxl.load_workbook('sum.xlsx') #既存のワークブックを開く\n",
        "sheet = wb.active\n",
        "c = sheet['B11']\n",
        "c.value = \"=SUM(B1:B10)\"  #セルの値は式もOK\n",
        "wb.save('sum.xlsx')"
      ],
      "execution_count": 0,
      "outputs": []
    },
    {
      "cell_type": "markdown",
      "metadata": {
        "id": "HfVtISQzaKTb",
        "colab_type": "text"
      },
      "source": [
        "②実行すると.xlsx形式の九九表が生成されるプログラムを開発してみよう！\n",
        "\n",
        "ただし、フォントサイズは18ポイントで、\n",
        "\n",
        "かける数とかけられる数は太字（bold）で表すものとする\n",
        "\n",
        "※9×9だけでなく任意の整数 n×n に対応したプログラムだとなおよいです！"
      ]
    },
    {
      "cell_type": "markdown",
      "metadata": {
        "id": "iMQ4SRCDbfHI",
        "colab_type": "text"
      },
      "source": [
        "まずは流れを確認\n",
        "\n",
        "1.   ワークブックを新規作成\n",
        "2.   1行目のB～J列のセルに1～9までの数字を入力(上の見出し)\n",
        "1.   A列の2～10行目のセルに1～9までの数字を入力(左の見出し)\n",
        "2.   B2にB**1**と**A**2の積を入力\n",
        "1.   上の太字が固定されて、B～J列、2～10行目と順番に繰り返していく\n",
        "2.   ワークブックを保存する\n"
      ]
    },
    {
      "cell_type": "code",
      "metadata": {
        "id": "cfy9rog_aLQC",
        "colab_type": "code",
        "colab": {}
      },
      "source": [
        "import openpyxl\n",
        "from openpyxl.styles import Font\n",
        "\n",
        "n = 9\n",
        "\n",
        "wb = openpyxl.Workbook()\n",
        "sheet = wb.active\n",
        "normal_font = Font(size=18)          # 通常フォント\n",
        "bold_font = Font(size=18, bold=True) # 太字フォント\n",
        "\n",
        "# 左の見出し\n",
        "for i in range(1, n + 1):\n",
        "    cell = sheet.cell(row=i+1, column=1, value=i)\n",
        "    cell.font = bold_font\n",
        "\n",
        "# 上の見出し\n",
        "for j in range(1, n + 1):\n",
        "    cell = sheet.cell(row=1, column=j+1, value=j)\n",
        "    cell.font = bold_font\n",
        "\n",
        "# 九九\n",
        "for i in range(1, n + 1):\n",
        "    for j in range(1, n + 1):\n",
        "        cell = sheet.cell(row=i+1, column=j+1, value=i * j)\n",
        "        cell.font = normal_font\n",
        "\n",
        "wb.save('99.xlsx')"
      ],
      "execution_count": 0,
      "outputs": []
    },
    {
      "cell_type": "markdown",
      "metadata": {
        "id": "VdxB_HSKrIOT",
        "colab_type": "text"
      },
      "source": [
        "### Word"
      ]
    },
    {
      "cell_type": "markdown",
      "metadata": {
        "id": "Bly3tEB6aQRu",
        "colab_type": "text"
      },
      "source": [
        "①Word形式（.docx）のファイルを生成して、「Hello World!」と入力して保存する"
      ]
    },
    {
      "cell_type": "markdown",
      "metadata": {
        "id": "1yXiAEY6ii33",
        "colab_type": "text"
      },
      "source": [
        "やはり手動で行うときの流れを確認\n",
        "\n",
        "1.   Wordファイルを開く\n",
        "2.   「Hello World!」と入力する\n",
        "1.   ファイルを保存する\n"
      ]
    },
    {
      "cell_type": "code",
      "metadata": {
        "id": "TaWgJZAHrK5d",
        "colab_type": "code",
        "colab": {}
      },
      "source": [
        "from docx import Document\n",
        "\n",
        "document = Document()\n",
        "\n",
        "document.add_paragraph('Hello World!')\n",
        "\n",
        "document.save('hello.docx')"
      ],
      "execution_count": 0,
      "outputs": []
    },
    {
      "cell_type": "markdown",
      "metadata": {
        "id": "1bahQxMfaU5D",
        "colab_type": "text"
      },
      "source": [
        "②招待客の名前が書かれたテキストファイルがあり、1行あたりにひとりの名前が書かれている\n",
        "\n",
        "「○○様　お世話になっております。」というような、宛名を書く箇所があり、\n",
        "\n",
        "宛名の部分だけをそれぞれの招待客の名前にしたものを人数分作成する\n",
        "\n"
      ]
    },
    {
      "cell_type": "code",
      "metadata": {
        "id": "9M2P18SnaV5i",
        "colab_type": "code",
        "colab": {}
      },
      "source": [
        "import docx\n",
        "from docx.enum.text import WD_ALIGN_PARAGRAPH\n",
        "\n",
        "# 新規にWord文書を作成\n",
        "doc = docx.Document()\n",
        "\n",
        "# guests.txtを開く\n",
        "guest_file = open('guests.txt', 'r')\n",
        "\n",
        "# 1行ずつ処理する\n",
        "for guest in guest_file:\n",
        "    # 前後の空白や改行（空白文字）を削除する\n",
        "    guest = guest.strip()\n",
        "    if guest == '':\n",
        "        continue\n",
        "    doc.add_paragraph(guest + \"様\")\n",
        "    doc.add_paragraph(\"お世話になっております。\")\n",
        "    doc.add_paragraph(\"パーティーへご招待いたします。\")\n",
        "    doc.add_paragraph('2019年4月1日')\n",
        "    doc.add_paragraph(\"午後7時から\")\n",
        "    doc.add_paragraph(\"新宿駅徒歩3分\")\n",
        "    # 改ページ\n",
        "    doc.add_page_break()\n",
        "\n",
        "# すべての行をセンタリングする\n",
        "for p in doc.paragraphs:\n",
        "    p.alignment = WD_ALIGN_PARAGRAPH.CENTER\n",
        "\n",
        "# ファイルに保存\n",
        "doc.save('invitation.docx')"
      ],
      "execution_count": 0,
      "outputs": []
    },
    {
      "cell_type": "markdown",
      "metadata": {
        "id": "7Py7d4UVrMXI",
        "colab_type": "text"
      },
      "source": [
        "## 演習問題"
      ]
    },
    {
      "cell_type": "markdown",
      "metadata": {
        "id": "PO2Gs8IfrPCE",
        "colab_type": "text"
      },
      "source": [
        "①複数のテキストファイル(a~d.txt)を読み込んで、スプレッドシート(.xlsx)に挿入してみよう！\n",
        "\n",
        "ただし、テキストファイルの1行につき、スプレッドシートの1行を使う\n",
        "\n",
        "最初のテキストファイルは列A、2番目のテキストファイルは列Bというように書き込んでゆく"
      ]
    },
    {
      "cell_type": "code",
      "metadata": {
        "id": "lrskbxsIrRPN",
        "colab_type": "code",
        "colab": {}
      },
      "source": [
        "import openpyxl\n",
        "import os\n",
        "\n",
        "# 新規のスプレッドシートを作る\n",
        "wb = openpyxl.Workbook()\n",
        "sheet = wb.active\n",
        "\n",
        "n = 0\n",
        "for filename in os.listdir('.'):\n",
        "    # 拡張子が.txtでなければスキップ\n",
        "    if not filename.endswith('.txt'):\n",
        "        continue\n",
        "    # ファイルごとに列番号を1,2,3,...と増やしていく\n",
        "    n += 1\n",
        "    text_file = open(filename, 'r')\n",
        "    # ファイルを開いて行に追加する\n",
        "    for m,line in enumerate(text_file):\n",
        "        sheet.cell(row=m+1, column=n, value=line.strip())\n",
        "    text_file.close()\n",
        "\n",
        "# Excelファイルを保存する\n",
        "wb.save('texts.xlsx')"
      ],
      "execution_count": 0,
      "outputs": []
    }
  ]
}